{
 "cells": [
  {
   "cell_type": "markdown",
   "id": "76a1b191",
   "metadata": {},
   "source": [
    "### File Operation- Read And Write Files\n",
    "File handling is a crucial part of any programming language. Python provides built-in functions and methods to read from and write to files, both text and binary. This lesson will cover the basics of file handling, including reading and writing text files and binary files."
   ]
  },
  {
   "cell_type": "code",
   "execution_count": 1,
   "id": "a9cd5241",
   "metadata": {},
   "outputs": [
    {
     "name": "stdout",
     "output_type": "stream",
     "text": [
      "hello how are you\n",
      "i am fine\n",
      "welocme to the course\n"
     ]
    }
   ],
   "source": [
    "## read whole file\n",
    "with open('example.txt','r') as file:\n",
    "    content = file.read()\n",
    "    print(content)\n"
   ]
  },
  {
   "cell_type": "code",
   "execution_count": 3,
   "id": "b1078e20",
   "metadata": {},
   "outputs": [
    {
     "name": "stdout",
     "output_type": "stream",
     "text": [
      "hello how are you\n",
      "\n",
      "i am fine\n",
      "\n",
      "welocme to the course\n"
     ]
    }
   ],
   "source": [
    "## read line by line\n",
    "with open('example.txt','r')as file:\n",
    "    \n",
    "    for line in file:\n",
    "        print(line)"
   ]
  },
  {
   "cell_type": "code",
   "execution_count": null,
   "id": "4da8f4f5",
   "metadata": {},
   "outputs": [
    {
     "name": "stdout",
     "output_type": "stream",
     "text": [
      "hello how are you\n",
      "i am fine\n",
      "welocme to the course\n"
     ]
    }
   ],
   "source": [
    "## read line by line\n",
    "with open('example.txt','r')as file:\n",
    "    \n",
    "    for line in file:\n",
    "        print(line.strip()) #removes the newline character"
   ]
  },
  {
   "cell_type": "code",
   "execution_count": 8,
   "id": "366e6dc9",
   "metadata": {},
   "outputs": [],
   "source": [
    "##writing a file(overwriting)\n",
    "\n",
    "with open('example.txt','w') as file:\n",
    "    file.write('hello world\\n')\n",
    "    file.write('this is a new line\\n')"
   ]
  },
  {
   "cell_type": "code",
   "execution_count": 9,
   "id": "653fe60d",
   "metadata": {},
   "outputs": [],
   "source": [
    "##write a file(without overwrite)\n",
    "\n",
    "with open('example.txt','a') as file:\n",
    "    file.write(\"append operation taking please!\\n\")\n",
    "    \n"
   ]
  },
  {
   "cell_type": "code",
   "execution_count": 11,
   "id": "e1a91af5",
   "metadata": {},
   "outputs": [],
   "source": [
    "## writing a list of lines to a file\n",
    "lines = ['First line\\n','Second line\\n','third line\\n']\n",
    "with open('example.txt','a') as file:\n",
    "    file.writelines(lines)"
   ]
  },
  {
   "cell_type": "code",
   "execution_count": 12,
   "id": "74aecf56",
   "metadata": {},
   "outputs": [],
   "source": [
    "## binary files\n",
    "data = b'\\x00\\x01\\x02\\x03\\x04'\n",
    "with open('example.bin','wb') as file:\n",
    "    file.write(data)"
   ]
  },
  {
   "cell_type": "code",
   "execution_count": 13,
   "id": "44dc3a8e",
   "metadata": {},
   "outputs": [
    {
     "name": "stdout",
     "output_type": "stream",
     "text": [
      "b'\\x00\\x01\\x02\\x03\\x04'\n"
     ]
    }
   ],
   "source": [
    "with open('example.bin','rb') as file:\n",
    "    content = file.read()\n",
    "    print(content)"
   ]
  },
  {
   "cell_type": "code",
   "execution_count": 14,
   "id": "b56d2017",
   "metadata": {},
   "outputs": [],
   "source": [
    "### Read the content froma  source text fiile and write to a destination text file\n",
    "# Copying a text file\n",
    "with open('example.txt','r') as source_file:\n",
    "    content = source_file.read()\n",
    "    \n",
    "with open('destination.txt','w') as destination_file:\n",
    "    destination_file.write(content)"
   ]
  },
  {
   "cell_type": "code",
   "execution_count": 16,
   "id": "6bf1c20a",
   "metadata": {},
   "outputs": [
    {
     "name": "stdout",
     "output_type": "stream",
     "text": [
      "Lines: 6, Words: 17, Characters: 97\n"
     ]
    }
   ],
   "source": [
    "#Read a text file and count the number of lines, words, and characters.\n",
    "# Counting lines, words, and characters in a text file\n",
    "\n",
    "def count_text_file(file_path):\n",
    "    with open(file_path,'r') as file:\n",
    "        lines= file.readlines()\n",
    "        line_count = len(lines)\n",
    "        word_count = sum(len(line.split())for line in lines)\n",
    "        char_count = sum(len(line) for line in lines)\n",
    "    return line_count,word_count,char_count\n",
    "\n",
    "file_path = 'example.txt'\n",
    "lines,words,characters = count_text_file(file_path)\n",
    "print(f'Lines: {lines}, Words: {words}, Characters: {characters}')"
   ]
  },
  {
   "cell_type": "markdown",
   "id": "1556481e",
   "metadata": {},
   "source": [
    "\n",
    "The w+ mode in Python is used to open a file for both reading and writing. If the file does not exist, it will be created. If the file exists, its content is truncated (i.e., the file is overwritten)."
   ]
  },
  {
   "cell_type": "code",
   "execution_count": 20,
   "id": "846afb67",
   "metadata": {},
   "outputs": [
    {
     "name": "stdout",
     "output_type": "stream",
     "text": [
      "Hello world\n",
      "This is a new line \n",
      "\n"
     ]
    }
   ],
   "source": [
    "### Writing and then reading a file\n",
    "with open('example.txt','w+') as file:\n",
    "    file.write(\"Hello world\\n\")\n",
    "    file.write(\"This is a new line \\n\")\n",
    "\n",
    "    #3move the file cursor to the begenning\n",
    "    file.seek(0)\n",
    "\n",
    "    ##read the content of the file\n",
    "    content = file.read()\n",
    "    print(content)"
   ]
  }
 ],
 "metadata": {
  "kernelspec": {
   "display_name": ".venv",
   "language": "python",
   "name": "python3"
  },
  "language_info": {
   "codemirror_mode": {
    "name": "ipython",
    "version": 3
   },
   "file_extension": ".py",
   "mimetype": "text/x-python",
   "name": "python",
   "nbconvert_exporter": "python",
   "pygments_lexer": "ipython3",
   "version": "3.13.3"
  }
 },
 "nbformat": 4,
 "nbformat_minor": 5
}
