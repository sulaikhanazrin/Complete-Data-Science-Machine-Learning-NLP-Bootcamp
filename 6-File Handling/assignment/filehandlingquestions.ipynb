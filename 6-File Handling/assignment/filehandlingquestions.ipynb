{
 "cells": [
  {
   "cell_type": "markdown",
   "metadata": {},
   "source": [
    "# Module: File Handling Assignments\n",
    "## Lesson: File Handling and Operations\n",
    "### Assignment 1: Reading a File\n",
    "\n",
    "Write a function that reads the contents of a file named `sample.txt` and prints each line.\n",
    "\n"
   ]
  },
  {
   "cell_type": "code",
   "execution_count": 7,
   "metadata": {},
   "outputs": [
    {
     "name": "stdout",
     "output_type": "stream",
     "text": [
      "hello guys\n",
      "my name is sulaikha\n",
      "nice to meet you all\n"
     ]
    }
   ],
   "source": [
    "def read_file(filename):\n",
    "    with open(filename,'r') as file:\n",
    "        for line in file:\n",
    "            print(line.strip())\n",
    "\n",
    "read_file('sample.txt')"
   ]
  },
  {
   "cell_type": "markdown",
   "id": "b92102bc",
   "metadata": {},
   "source": [
    "### Assignment 2: Writing to a File\n",
    "\n",
    "Write a function that writes a list of strings to a file named `output.txt`, with each string on a new line."
   ]
  },
  {
   "cell_type": "code",
   "execution_count": 8,
   "id": "a45b560a",
   "metadata": {},
   "outputs": [],
   "source": [
    "def write_file(lines,filename):\n",
    "    with open(filename,'w') as file:\n",
    "        for line in lines:\n",
    "            file.write(line + '\\n')\n",
    "            \n",
    "#test\n",
    "write_file(['Helo','World'],'output.txt')"
   ]
  },
  {
   "cell_type": "markdown",
   "id": "a79e77b0",
   "metadata": {},
   "source": [
    "\n",
    "\n",
    "### Assignment 3: Copying a File\n",
    "\n",
    "Write a function that copies the contents of a file named `source.txt` to a new file named `destination.txt`."
   ]
  },
  {
   "cell_type": "code",
   "execution_count": 10,
   "id": "14e6fd00",
   "metadata": {},
   "outputs": [],
   "source": [
    "def copy_file(source,destination):\n",
    "    with open(source,'r') as src:\n",
    "        with open(destination,'w')as dest:\n",
    "            dest.write(src.read())\n",
    "            \n",
    "\n",
    "#test\n",
    "copy_file('source.txt','destination.txt')"
   ]
  },
  {
   "cell_type": "markdown",
   "id": "77b292a6",
   "metadata": {},
   "source": [
    "### Assignment 4: Appending to a File\n",
    "\n",
    "Write a function that appends a given string to the end of a file named `log.txt`."
   ]
  },
  {
   "cell_type": "code",
   "execution_count": 11,
   "id": "86b5b4e0",
   "metadata": {},
   "outputs": [],
   "source": [
    "def append_to_file(text,filename):\n",
    "    with open(filename,'a')as file:\n",
    "        file.write(text+'\\n')\n",
    "#test\n",
    "append_to_file(\"Ths is my new log entry\",'log.txt')"
   ]
  },
  {
   "cell_type": "markdown",
   "id": "aaafdaaa",
   "metadata": {},
   "source": [
    "### Assignment 5: Counting Words in a File\n",
    "\n",
    "Write a function that reads the contents of a file named `document.txt` and returns the number of words in the file."
   ]
  },
  {
   "cell_type": "code",
   "execution_count": 13,
   "id": "5e1b6fa2",
   "metadata": {},
   "outputs": [
    {
     "name": "stdout",
     "output_type": "stream",
     "text": [
      "8\n"
     ]
    }
   ],
   "source": [
    "def count_words(filename):\n",
    "    with open(filename,'r') as file:\n",
    "        text = file.read()\n",
    "        words = text.split()\n",
    "        return len(words)\n",
    "    \n",
    "#test\n",
    "print(count_words('document.txt'))"
   ]
  },
  {
   "cell_type": "markdown",
   "id": "e7c144fa",
   "metadata": {},
   "source": [
    "### Assignment 6: Finding and Replacing Text\n",
    "\n",
    "Write a function that finds and replaces all occurrences of a given word in a file named `data.txt` with another word."
   ]
  },
  {
   "cell_type": "code",
   "execution_count": 18,
   "id": "7f7b87b2",
   "metadata": {},
   "outputs": [],
   "source": [
    "def find_and_replace(filename,old_word,new_word):\n",
    "    with open(filename,'r') as file:\n",
    "        text=file.read()\n",
    "    new_text = text.replace(old_word,new_word)\n",
    "    with open(filename,'w') as file:\n",
    "        file.write(new_text)\n",
    "        \n",
    "#test\n",
    "find_and_replace('data.txt','old','new')"
   ]
  },
  {
   "cell_type": "markdown",
   "id": "3dc023e4",
   "metadata": {},
   "source": [
    "### Assignment 7: Reading a File in Reverse\n",
    "\n",
    "Write a function that reads the contents of a file named `reverse.txt` and prints each line in reverse order."
   ]
  },
  {
   "cell_type": "code",
   "execution_count": 20,
   "id": "2e1b0b6a",
   "metadata": {},
   "outputs": [
    {
     "name": "stdout",
     "output_type": "stream",
     "text": [
      "thankyou\n",
      "hope you all are fine\n",
      "how are you all\n",
      "helloo this is me\n"
     ]
    }
   ],
   "source": [
    "def read_reverse(filename):\n",
    "    with open(filename,'r') as file:\n",
    "        lines=file.readlines()\n",
    "    for line in reversed(lines):\n",
    "        print(line.strip())\n",
    "        \n",
    "#test\n",
    "read_reverse('reverse.txt')"
   ]
  },
  {
   "cell_type": "markdown",
   "id": "53b1992e",
   "metadata": {},
   "source": [
    "### Assignment 8: Counting Lines, Words, and Characters\n",
    "\n",
    "Write a function that reads the contents of a file named `stats.txt` and returns the number of lines, words, and characters in the file."
   ]
  },
  {
   "cell_type": "code",
   "execution_count": 26,
   "id": "57a0f094",
   "metadata": {},
   "outputs": [
    {
     "name": "stdout",
     "output_type": "stream",
     "text": [
      "(3, 11, 53)\n"
     ]
    }
   ],
   "source": [
    "def count_lwc(filename):\n",
    "    with open(filename,'r') as file:\n",
    "        lines = file.readlines()\n",
    "        words = sum(len(line.split()) for line in lines)\n",
    "        characters = sum(len(line) for line in lines)\n",
    "    return len(lines), words, characters\n",
    "\n",
    "#test\n",
    "print(count_lwc('stats.txt'))"
   ]
  },
  {
   "cell_type": "markdown",
   "id": "d5807474",
   "metadata": {},
   "source": [
    "### Assignment 9: Merging Multiple Files\n",
    "\n",
    "Write a function that merges the contents of multiple files into a single file named `merged.txt`."
   ]
  },
  {
   "cell_type": "code",
   "execution_count": 28,
   "id": "cd3e654a",
   "metadata": {},
   "outputs": [],
   "source": [
    "def merge_files(file_list,output_file):\n",
    "    with open(output_file,'w') as outfile:\n",
    "        for fname in file_list:\n",
    "            with open(fname,'r') as infile:\n",
    "                outfile.write(infile.read()+ '\\n')\n",
    "#test\n",
    "merge_files(['file1.txt','file2.txt'],'merged.txt')"
   ]
  },
  {
   "cell_type": "markdown",
   "id": "270ea83b",
   "metadata": {},
   "source": [
    "### Assignment 10: Splitting a Large File\n",
    "\n",
    "Write a function that splits a large file named `large.txt` into smaller files of 100 lines each."
   ]
  },
  {
   "cell_type": "code",
   "execution_count": null,
   "id": "d8fb3633",
   "metadata": {},
   "outputs": [],
   "source": [
    "def split_file(filename,lines_per_file):\n",
    "    with open(filename,'r') as file:\n",
    "        lines = file.readlines()\n",
    "    for i in range(0,len(lines),lines_per_file):\n",
    "        with open(f\"{filename}_part{i//lines_per_file+1}.txt\",'w') as part_file:\n",
    "            part_file.writelines(lines[i:i+ lines_per_file])\n",
    "            \n",
    "# Test\n",
    "# split_file('large.txt', 100)    "
   ]
  },
  {
   "cell_type": "markdown",
   "id": "cc148c6f",
   "metadata": {},
   "source": [
    "### Assignment 11: Creating a Log File\n",
    "\n",
    "Write a function that creates a log file named `activity.log` and writes log messages with timestamps.\n"
   ]
  },
  {
   "cell_type": "code",
   "execution_count": null,
   "id": "ddcdd3d2",
   "metadata": {},
   "outputs": [],
   "source": [
    "import datetime\n",
    "\n",
    "def log_message(message,filename='activity.log'):\n",
    "    timestamp = datetime.datetime.now().isoformat()\n",
    "    with open(filename,'a') as file:\n",
    "        file.write(f'[{timestamp}] {message\\n}')\n",
    "        \n",
    "# Test\n",
    "# log_message('This is a log message.')"
   ]
  },
  {
   "cell_type": "markdown",
   "id": "f8e635ce",
   "metadata": {},
   "source": [
    "### Assignment 12: Binary File Operations\n",
    "\n",
    "Write a function that reads a binary file named `image.bin` and writes its contents to another binary file named `copy_image.bin`."
   ]
  },
  {
   "cell_type": "code",
   "execution_count": null,
   "id": "4d92cfdd",
   "metadata": {},
   "outputs": [],
   "source": [
    "def copy_binary_file(source,destination):\n",
    "    with open(source,'rb') as src:\n",
    "        with open(destination,'wb') as dest:\n",
    "            dest.write(src.read())\n",
    "            \n",
    "# Test\n",
    "# copy_binary_file('image.bin', 'copy_image.bin')           "
   ]
  },
  {
   "cell_type": "markdown",
   "id": "2248a380",
   "metadata": {},
   "source": [
    "\n",
    "\n",
    "### Assignment 13: CSV File Operations\n",
    "\n",
    "Write a function that reads a CSV file named `data.csv` and prints its contents as a list of dictionaries."
   ]
  },
  {
   "cell_type": "code",
   "execution_count": null,
   "id": "e7476b98",
   "metadata": {},
   "outputs": [],
   "source": [
    "import csv\n",
    "def read_csv_as_dicts(filename):\n",
    "    with open(filename,'r') as file:\n",
    "        reader = csv.DictReader(file)\n",
    "        return list(reader)\n",
    "\n",
    "#test\n",
    "#print(read_csv_as_dicts('data.csv'))"
   ]
  },
  {
   "cell_type": "markdown",
   "id": "efcc23be",
   "metadata": {},
   "source": [
    "### Assignment 14: JSON File Operations\n",
    "\n",
    "Write a function that reads a JSON file named `data.json` and prints its contents as a Python dictionary."
   ]
  },
  {
   "cell_type": "code",
   "execution_count": 29,
   "id": "d3bf439b",
   "metadata": {},
   "outputs": [],
   "source": [
    "import json\n",
    "\n",
    "def read_json(filename):\n",
    "    with open(filename,'r') as file:\n",
    "        data = json.load(file)\n",
    "        return data\n",
    "    \n",
    "# Test\n",
    "# print(read_json('data.json'))"
   ]
  },
  {
   "cell_type": "markdown",
   "id": "cb230fc4",
   "metadata": {},
   "source": [
    "\n",
    "### Assignment 15: File Permission Handling\n",
    "\n",
    "Write a function that attempts to read a file named `protected.txt` and handles any permission errors gracefully by printing an error message."
   ]
  },
  {
   "cell_type": "code",
   "execution_count": 30,
   "id": "5cac9ca1",
   "metadata": {},
   "outputs": [],
   "source": [
    "def read_protected_file(filename):\n",
    "    try:\n",
    "        with open(filename,'r') as file:\n",
    "            print(file.read())\n",
    "    except PermissionError as e:\n",
    "        print(f\"PermissionError: {e}\")\n",
    "        \n",
    "# Test\n",
    "# read_protected_file('protected.txt')"
   ]
  }
 ],
 "metadata": {
  "kernelspec": {
   "display_name": ".venv",
   "language": "python",
   "name": "python3"
  },
  "language_info": {
   "codemirror_mode": {
    "name": "ipython",
    "version": 3
   },
   "file_extension": ".py",
   "mimetype": "text/x-python",
   "name": "python",
   "nbconvert_exporter": "python",
   "pygments_lexer": "ipython3",
   "version": "3.13.3"
  }
 },
 "nbformat": 4,
 "nbformat_minor": 5
}
