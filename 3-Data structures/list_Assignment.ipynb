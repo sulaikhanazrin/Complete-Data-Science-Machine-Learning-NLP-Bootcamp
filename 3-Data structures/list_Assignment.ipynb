{
 "cells": [
  {
   "cell_type": "markdown",
   "id": "e6d47975",
   "metadata": {},
   "source": [
    "# Module 3: Data Structures Assignments\n",
    "## Lesson 3.1: Lists\n",
    "### Assignment 1: Creating and Accessing Lists\n",
    "\n",
    "Create a list of the first 20 positive integers. Print the list."
   ]
  },
  {
   "cell_type": "code",
   "execution_count": 2,
   "id": "dbfa67af",
   "metadata": {},
   "outputs": [
    {
     "name": "stdout",
     "output_type": "stream",
     "text": [
      "[1, 2, 3, 4, 5, 6, 7, 8, 9, 10, 11, 12, 13, 14, 15, 16, 17, 18, 19, 20]\n"
     ]
    }
   ],
   "source": [
    "lst = list(range(1,21))\n",
    "print(lst)"
   ]
  },
  {
   "cell_type": "markdown",
   "id": "fee73132",
   "metadata": {},
   "source": [
    "\n",
    "### Assignment 2: Accessing List Elements\n",
    "\n",
    "Print the first, middle, and last elements of the list created in Assignment 1."
   ]
  },
  {
   "cell_type": "code",
   "execution_count": 7,
   "id": "bd4b9dba",
   "metadata": {},
   "outputs": [
    {
     "name": "stdout",
     "output_type": "stream",
     "text": [
      "1\n",
      "11\n",
      "20\n"
     ]
    }
   ],
   "source": [
    "print(lst[0])\n",
    "print(lst[10])\n",
    "print(lst[-1])"
   ]
  },
  {
   "cell_type": "code",
   "execution_count": 8,
   "id": "e1985f51",
   "metadata": {},
   "outputs": [
    {
     "name": "stdout",
     "output_type": "stream",
     "text": [
      "First Element: 1\n",
      "Second Element: 11\n",
      "Last Element: 20\n"
     ]
    }
   ],
   "source": [
    "print(f\"First Element: {lst[0]}\")\n",
    "print(f\"Second Element: {lst[len(lst)//2]}\")\n",
    "print(f\"Last Element: {lst[-1]}\")"
   ]
  },
  {
   "cell_type": "markdown",
   "id": "e0441d0c",
   "metadata": {},
   "source": [
    "### Assignment 3: List Slicing\n",
    "\n",
    "Print the first five elements, the last five elements, and the elements from index 5 to 15 of the list created in Assignment 1."
   ]
  },
  {
   "cell_type": "code",
   "execution_count": 18,
   "id": "a41ba7a7",
   "metadata": {},
   "outputs": [
    {
     "name": "stdout",
     "output_type": "stream",
     "text": [
      "First five elements: [1, 2, 3, 4, 5]\n",
      "last five elements: [16, 17, 18, 19, 20]\n",
      "elemnts from index 5 to 15 of the list: [6, 7, 8, 9, 10, 11, 12, 13, 14, 15, 16]\n"
     ]
    }
   ],
   "source": [
    "print(f\"First five elements: {lst[:5]}\")\n",
    "print(f\"last five elements: {lst[-5:]}\")\n",
    "print(f\"elemnts from index 5 to 15 of the list: {lst[5:16]}\")"
   ]
  },
  {
   "cell_type": "markdown",
   "id": "4ee5d317",
   "metadata": {},
   "source": [
    "### Assignment 4: List Comprehensions\n",
    "\n",
    "Create a new list containing the squares of the first 10 positive integers using a list comprehension. Print the new list."
   ]
  },
  {
   "cell_type": "code",
   "execution_count": 19,
   "id": "fbe87bf6",
   "metadata": {},
   "outputs": [
    {
     "data": {
      "text/plain": [
       "[1, 4, 9, 16, 25, 36, 49, 64, 81, 100]"
      ]
     },
     "execution_count": 19,
     "metadata": {},
     "output_type": "execute_result"
    }
   ],
   "source": [
    "squares = [x**2 for x in range(1,11)]\n",
    "squares"
   ]
  },
  {
   "cell_type": "markdown",
   "id": "77e5dbd9",
   "metadata": {},
   "source": [
    "### Assignment 5: Filtering Lists\n",
    "\n",
    "Create a new list containing only the even numbers from the list created in Assignment 1 using a list comprehension. Print the new list."
   ]
  },
  {
   "cell_type": "code",
   "execution_count": 3,
   "id": "7a9323d6",
   "metadata": {},
   "outputs": [
    {
     "name": "stdout",
     "output_type": "stream",
     "text": [
      "[2, 4, 6, 8, 10, 12, 14, 16, 18, 20]\n"
     ]
    }
   ],
   "source": [
    "evens = [x for x in lst if x%2==0]\n",
    "print(evens)"
   ]
  },
  {
   "cell_type": "markdown",
   "id": "a069c88c",
   "metadata": {},
   "source": [
    "### Assignment 6: List Methods\n",
    "\n",
    "Create a list of random numbers and sort it in ascending and descending order. Remove the duplicates from the list and print the modified list."
   ]
  },
  {
   "cell_type": "code",
   "execution_count": 5,
   "id": "ec0135bb",
   "metadata": {},
   "outputs": [
    {
     "name": "stdout",
     "output_type": "stream",
     "text": [
      "The original list: [15, 19, 7, 4, 15, 11, 20, 1, 11, 11, 12, 2, 4, 16, 5]\n",
      "The numbers in ascending order: [1, 2, 4, 4, 5, 7, 11, 11, 11, 12, 15, 15, 16, 19, 20]\n",
      "The umbers in descending order: [20, 19, 16, 15, 15, 12, 11, 11, 11, 7, 5, 4, 4, 2, 1]\n"
     ]
    }
   ],
   "source": [
    "import random\n",
    "\n",
    "random_numbers = [random.randint(1,20) for _ in range(15)]\n",
    "print(f\"The original list: {random_numbers}\")\n",
    "\n",
    "sorted_numbers = sorted(random_numbers)\n",
    "print(f\"The numbers in ascending order: {sorted_numbers}\")\n",
    "\n",
    "sorted_numbers_desc = sorted(random_numbers,reverse=True)\n",
    "print(f\"The umbers in descending order: {sorted_numbers_desc}\")"
   ]
  },
  {
   "cell_type": "markdown",
   "id": "e537ee25",
   "metadata": {},
   "source": [
    "### Assignment 7: Nested Lists\n",
    "\n",
    "Create a nested list representing a 3x3 matrix and print the matrix. Access and print the element at the second row and third column."
   ]
  },
  {
   "cell_type": "code",
   "execution_count": 6,
   "id": "1e402e1c",
   "metadata": {},
   "outputs": [
    {
     "name": "stdout",
     "output_type": "stream",
     "text": [
      "[[1, 2, 3], [4, 5, 6], [7, 8, 9]]\n",
      "[1, 2, 3]\n",
      "[4, 5, 6]\n",
      "[7, 8, 9]\n",
      "element at the second row and third column: 6\n"
     ]
    }
   ],
   "source": [
    "matrix = [\n",
    "    [1,2,3],\n",
    "    [4,5,6],\n",
    "    [7,8,9]\n",
    "]\n",
    "print(matrix)\n",
    "for row in matrix:\n",
    "    print(row)\n",
    "print(f\"element at the second row and third column: {matrix[1][2]}\")"
   ]
  },
  {
   "cell_type": "raw",
   "id": "57229179",
   "metadata": {},
   "source": [
    "🔍 What Does This Mean?\n",
    "You are creating a variable called matrix and storing inside it a list with 3 rows:\n",
    "\n",
    "Row 0: [1, 2, 3] → 1st row\n",
    "\n",
    "Row 1: [4, 5, 6] → 2nd row\n",
    "\n",
    "Row 2: [7, 8, 9] → 3rd row\n",
    "\n",
    "Row 0 →  [1, 2, 3]\n",
    "Row 1 →  [4, 5, 6]\n",
    "Row 2 →  [7, 8, 9]\n",
    "          ↑  ↑  ↑\n",
    "         C0  C1  C2 (Columns 0, 1, 2)\n",
    "\n",
    "🖨️ Code: print(matrix)\n",
    "This line prints the entire matrix as a list of lists:\n",
    "\n",
    "for row in matrix:\n",
    "    print(row)\n",
    "\n",
    "This is a for loop. Let’s break it:\n",
    "\n",
    "for row in matrix: means:\n",
    "\n",
    "Go through each row (each sublist) inside matrix\n",
    "\n",
    "print(row) prints that row"
   ]
  },
  {
   "cell_type": "markdown",
   "id": "c8d99fa6",
   "metadata": {},
   "source": [
    "### Assignment 8: List of Dictionaries\n",
    "\n",
    "Create a list of dictionaries where each dictionary represents a student with keys 'name' and 'score'. Sort the list of dictionaries by the 'score' in descending order and print the sorted list."
   ]
  },
  {
   "cell_type": "code",
   "execution_count": 7,
   "id": "1af76b7a",
   "metadata": {},
   "outputs": [
    {
     "name": "stdout",
     "output_type": "stream",
     "text": [
      "sorted students by score in descending order: \n",
      "{'name': 'charlie', 'score': 95}\n",
      "{'name': 'Alice', 'score': 88}\n",
      "{'name': 'Eve', 'score': 78}\n",
      "{'name': 'Bob', 'score': 72}\n",
      "{'name': 'David', 'score': 65}\n"
     ]
    }
   ],
   "source": [
    "students = [\n",
    "    {'name':'Alice','score':88},\n",
    "    {'name':'Bob','score':72},\n",
    "    {'name':'charlie','score':95},\n",
    "    {'name': 'David', 'score': 65},\n",
    "    {'name': 'Eve', 'score': 78}\n",
    "]\n",
    "sorted_students = sorted(students,key=lambda x:x['score'], reverse=True)\n",
    "print(\"sorted students by score in descending order: \")\n",
    "for students in sorted_students:\n",
    "    print(students)"
   ]
  },
  {
   "cell_type": "raw",
   "id": "7b9044c4",
   "metadata": {
    "vscode": {
     "languageId": "raw"
    }
   },
   "source": [
    "Let’s understand this step by step:\n",
    "\n",
    "🔸 sorted() function:\n",
    "This is a built-in Python function that returns a new sorted list, without changing the original.\n",
    "\n",
    "🔸 key=lambda x: x['score']:\n",
    "This tells Python what to sort by.\n",
    "You are saying:\n",
    "\n",
    "“Look at the 'score' value in each dictionary (student), and sort by that.”\n",
    "\n",
    "The lambda x: x['score'] is a shortcut function that says:\n",
    "\n",
    "“For each x (which is a dictionary like {'name': 'Alice', 'score': 88}), return x['score']”\n",
    "\n",
    "🔸 reverse=True:\n",
    "This means sort in descending order (highest score first).\n",
    "1. Charlie (95)\n",
    "2. Alice (88)\n",
    "3. Eve (78)\n",
    "4. Bob (72)\n",
    "5. David (65)\n",
    "\n",
    "🔚 Summary:\n",
    "Concept\tMeaning \n",
    "List of Dicts\t                     You stored each student’s info using a dictionary inside a list\n",
    "sorted()\t                         Used to sort without changing the original list\n",
    "lambda\t                             A small anonymous function to extract the sorting key (score)\n",
    "reverse=True\t                     Used to sort from highest to lowest\n",
    "for student in sorted_students\t     Used to go through each student and print their details "
   ]
  },
  {
   "cell_type": "markdown",
   "id": "13d91eef",
   "metadata": {},
   "source": [
    "### Assignment 9: Matrix Transposition\n",
    "\n",
    "Write a function that takes a 3x3 matrix (nested list) as input and returns its transpose. Print the original and transposed matrices."
   ]
  },
  {
   "cell_type": "code",
   "execution_count": 8,
   "metadata": {},
   "outputs": [
    {
     "name": "stdout",
     "output_type": "stream",
     "text": [
      "Original matrix\n",
      "[1, 2, 3]\n",
      "[4, 5, 6]\n",
      "[7, 8, 9]\n",
      "Transposed matrix: \n",
      "[1, 4, 7]\n",
      "[2, 5, 8]\n",
      "[3, 6, 9]\n"
     ]
    }
   ],
   "source": [
    "def transpose_matrix(matrix):\n",
    "    transposed = [[matrix[j][i] for j in range(len(matrix))] for i in range(len(matrix[0]))]\n",
    "    return transposed\n",
    "\n",
    "matrix = [\n",
    "    [1,2,3],\n",
    "    [4,5,6],\n",
    "    [7,8,9]\n",
    "]\n",
    "transposed = transpose_matrix(matrix)\n",
    "print(\"Original matrix\")\n",
    "for row in matrix:\n",
    "    print(row)\n",
    "print(\"Transposed matrix: \")\n",
    "for row in transposed:\n",
    "    print(row)"
   ]
  },
  {
   "cell_type": "markdown",
   "id": "b4ce8caa",
   "metadata": {},
   "source": [
    "### Assignment 10: Flattening a Nested List\n",
    "\n",
    "Write a function that takes a nested list and flattens it into a single list. Print the original and flattened lists."
   ]
  },
  {
   "cell_type": "code",
   "execution_count": 9,
   "id": "325b64ca",
   "metadata": {},
   "outputs": [
    {
     "name": "stdout",
     "output_type": "stream",
     "text": [
      "Original nested list: \n",
      "[[1, 2, 3], [4, 5, 6], [7, 8, 9]]\n",
      "flattened_list\n",
      "[1, 2, 3, 4, 5, 6, 7, 8, 9]\n"
     ]
    }
   ],
   "source": [
    "def flatten_list(nested_list):\n",
    "    flat_list = [item for sublist in nested_list for item in sublist]\n",
    "    return flat_list\n",
    "\n",
    "nested_list = [\n",
    "    [1,2,3],\n",
    "    [4,5,6],\n",
    "    [7,8,9]\n",
    "]\n",
    "flattened = flatten_list(nested_list)\n",
    "print(\"Original nested list: \")\n",
    "print(nested_list)\n",
    "print(\"flattened_list\")\n",
    "print(flattened)"
   ]
  },
  {
   "cell_type": "markdown",
   "id": "64de4fc2",
   "metadata": {},
   "source": [
    "### Assignment 11: List Manipulation\n",
    "\n",
    "Create a list of the first 10 positive integers. Remove the elements at indices 2, 4, and 6, and insert the element '99' at index 5. Print the modified list."
   ]
  },
  {
   "cell_type": "code",
   "execution_count": 10,
   "id": "f92be9e8",
   "metadata": {},
   "outputs": [
    {
     "name": "stdout",
     "output_type": "stream",
     "text": [
      "Original list: [1, 2, 3, 4, 5, 6, 7, 8, 9, 10]\n",
      "Modified list: [1, 2, 4, 5, 7, 99, 8, 10]\n"
     ]
    }
   ],
   "source": [
    "lst = list(range(1,11))\n",
    "print(f\"Original list: {lst}\")\n",
    "del lst[2]\n",
    "del lst[4]\n",
    "del lst[6]\n",
    "lst.insert(5,99)\n",
    "print(f\"Modified list: {lst}\")"
   ]
  },
  {
   "cell_type": "markdown",
   "id": "f005c872",
   "metadata": {},
   "source": [
    "### Assignment 12: List Zipping\n",
    "\n",
    "Create two lists of the same length. Use the `zip` function to combine these lists into a list of tuples and print the result."
   ]
  },
  {
   "cell_type": "code",
   "execution_count": 11,
   "id": "0518fc3a",
   "metadata": {},
   "outputs": [
    {
     "name": "stdout",
     "output_type": "stream",
     "text": [
      "[(1, 'a'), (2, 'b'), (3, 'c'), (4, 'd'), (5, 'e')]\n"
     ]
    }
   ],
   "source": [
    "list1 = [1,2,3,4,5]\n",
    "list2 = ['a','b','c','d','e']\n",
    "zipped = list(zip(list1,list2))\n",
    "print(zipped)"
   ]
  },
  {
   "cell_type": "markdown",
   "id": "a7f07061",
   "metadata": {},
   "source": [
    "### Assignment 13: List Reversal\n",
    "\n",
    "Write a function that takes a list and returns a new list with the elements in reverse order. Print the original and reversed lists."
   ]
  },
  {
   "cell_type": "code",
   "execution_count": 12,
   "id": "ec21fe4f",
   "metadata": {},
   "outputs": [
    {
     "name": "stdout",
     "output_type": "stream",
     "text": [
      "Original list: [1, 2, 3, 4, 5]\n",
      "Reversed list: [5, 4, 3, 2, 1]\n"
     ]
    }
   ],
   "source": [
    "def reverse_list(lst):\n",
    "    return lst[::-1]\n",
    "\n",
    "original_list = [1,2,3,4,5]\n",
    "reversed_list = reverse_list(original_list)\n",
    "print(f\"Original list: {original_list}\")\n",
    "print(f\"Reversed list: {reversed_list}\")"
   ]
  },
  {
   "cell_type": "markdown",
   "id": "a54eb66a",
   "metadata": {},
   "source": [
    "### Assignment 14: List Rotation\n",
    "\n",
    "Write a function that rotates a list by n positions. Print the original and rotated lists."
   ]
  },
  {
   "cell_type": "code",
   "execution_count": 14,
   "id": "a763bfc5",
   "metadata": {},
   "outputs": [
    {
     "name": "stdout",
     "output_type": "stream",
     "text": [
      "Original list: [1, 2, 3, 4, 5]\n",
      "Rotated list: [3, 4, 5, 1, 2]\n"
     ]
    }
   ],
   "source": [
    "def rotate_list(lst,n):\n",
    "    return lst[n:] + lst[:n]\n",
    "\n",
    "original_list = [1,2,3,4,5]\n",
    "rotated_list = rotate_list(original_list,2)\n",
    "print(f\"Original list: {original_list}\")\n",
    "print(f\"Rotated list: {rotated_list}\")"
   ]
  },
  {
   "cell_type": "markdown",
   "id": "dc3a7848",
   "metadata": {},
   "source": [
    "### Assignment 15: List Intersection\n",
    "\n",
    "Write a function that takes two lists and returns a new list containing only the elements that are present in both lists. Print the intersected list."
   ]
  },
  {
   "cell_type": "code",
   "execution_count": 20,
   "id": "e8c15596",
   "metadata": {},
   "outputs": [
    {
     "name": "stdout",
     "output_type": "stream",
     "text": [
      "List 1: [1, 2, 3, 4, 5]\n",
      "List 2: [3, 4, 5, 6, 7]\n",
      "Intersection: [3, 4, 5]\n"
     ]
    }
   ],
   "source": [
    "def list_intersection(lst1, lst2):\n",
    "    return [x for x in lst1 if x in lst2]\n",
    "\n",
    "list1 = [1, 2, 3, 4, 5]\n",
    "list2 = [3, 4, 5, 6, 7]\n",
    "intersection = list_intersection(list1, list2)\n",
    "print(f\"List 1: {list1}\")\n",
    "print(f\"List 2: {list2}\")\n",
    "print(f\"Intersection: {intersection}\")"
   ]
  }
 ],
 "metadata": {
  "kernelspec": {
   "display_name": ".venv",
   "language": "python",
   "name": "python3"
  },
  "language_info": {
   "codemirror_mode": {
    "name": "ipython",
    "version": 3
   },
   "file_extension": ".py",
   "mimetype": "text/x-python",
   "name": "python",
   "nbconvert_exporter": "python",
   "pygments_lexer": "ipython3",
   "version": "3.13.3"
  }
 },
 "nbformat": 4,
 "nbformat_minor": 5
}
